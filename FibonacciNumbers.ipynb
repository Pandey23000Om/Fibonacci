{
  "nbformat": 4,
  "nbformat_minor": 0,
  "metadata": {
    "colab": {
      "name": "Untitled0.ipynb",
      "provenance": [],
      "authorship_tag": "ABX9TyMLcZGdNdn+P5z4gu0qpAwV",
      "include_colab_link": true
    },
    "kernelspec": {
      "name": "python3",
      "display_name": "Python 3"
    }
  },
  "cells": [
    {
      "cell_type": "markdown",
      "metadata": {
        "id": "view-in-github",
        "colab_type": "text"
      },
      "source": [
        "<a href=\"https://colab.research.google.com/github/Pandey23000Om/Fibonacci/blob/main/FibonacciNumbers.ipynb\" target=\"_parent\"><img src=\"https://colab.research.google.com/assets/colab-badge.svg\" alt=\"Open In Colab\"/></a>"
      ]
    },
    {
      "cell_type": "code",
      "metadata": {
        "id": "_ljtoF3QVGCY"
      },
      "source": [
        "n=10\r\n",
        "i=1"
      ],
      "execution_count": 28,
      "outputs": []
    },
    {
      "cell_type": "code",
      "metadata": {
        "id": "qNfFc1MpqtZJ",
        "colab": {
          "base_uri": "https://localhost:8080/"
        },
        "outputId": "c7fcb250-378c-4d16-89e7-745702a7cee3"
      },
      "source": [
        "a = 0\n",
        "b = 1\n",
        "print(a)\n",
        "print(b)\n",
        "while i<=n :\n",
        "  c = a + b\n",
        "  print(c)\n",
        "  a = b+0\n",
        "  b = c+0\n",
        "  i+=1"
      ],
      "execution_count": 29,
      "outputs": [
        {
          "output_type": "stream",
          "text": [
            "0\n",
            "1\n",
            "1\n",
            "2\n",
            "3\n",
            "5\n",
            "8\n",
            "13\n",
            "21\n",
            "34\n",
            "55\n",
            "89\n"
          ],
          "name": "stdout"
        }
      ]
    },
    {
      "cell_type": "code",
      "metadata": {
        "id": "VFXas4EEWXmL"
      },
      "source": [
        ""
      ],
      "execution_count": null,
      "outputs": []
    }
  ]
}